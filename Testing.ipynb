{
 "cells": [
  {
   "cell_type": "markdown",
   "source": [
    "# Testing Models"
   ],
   "metadata": {}
  },
  {
   "cell_type": "markdown",
   "source": [
    "Testing recommender systems is less intuitive than testing other predictive models. There are many common metrics to use, which can be found [here in this useful Medium article](https://medium.com/swlh/rank-aware-recsys-evaluation-metrics-5191bba16832). The idea of these methods are all similar: generate a list of top ranked items to show the user, and your score is based on how many of the items you recommend are relevant to the user. The word \"relevant\" is not well-defined, but normally means that the user has interacted with this item in the past. \r\n",
    "\r\n",
    "In our case, our items are the restaurants and the interactions are orders. One issue with our data is that between 30-40% of our users have only ordered from a single restaurant, which makes the above methods tricky/impossible to apply.\r\n",
    "\r\n",
    "Recall that our model takes in a user's past five (5) orders as inputs together with one restaurant R and tries to predict how likely the user will order from R next. We will evaluate our model as follows. Given a user's sequence of five restaurants, and given the target restaurant R which is next in the sequence, we use the model to generate a ranked list of $k=5$ more restaurants that it thinks is the most likely to be ordered from next. If R is among the $k$ generated restaurants, we add $+1$ to the score, otherwise $+0$. \r\n",
    "\r\n",
    "Since there are only $100$ restaurants to recommend from, it should be very feasible to simply score each one, sort the rankings, and slice the top 5 as recommendations. This is a very privillaged position we are in since many recommender systems are deployed in a context where there are millions of items to recommend from. In that case, one could perform clustering based on the customer and vendor embeddings before ranking within the clusters.  \r\n",
    "\r\n",
    "Each user in the test set may possibly geenerate many length $5+1$ sequences, and we shall use all of these during the evaluation process. In the deployed version of the model, we could simply give recommendations based on the last $5$ orders made by the user.\r\n",
    "\r\n",
    "Baselines:\r\n",
    "1) Recommend the $5$ most popular restaurants.\r\n",
    "2) Given a sequence of $5$ orders, $m$ of which are unique and not null, recommend those restaurants together with the $5-m$ most popular restaurants. \r\n",
    "\r\n",
    "We will define 'popularity' of a vendor to be equal to its number of orders in the training data. Note that the unordered set of top five most popular vendors would be the same if we changed the definition of popularity of a vendor to be equal to its number of unique customers (although their rankings are slightly different, see the last cell of \"Munging.ipynb\"). "
   ],
   "metadata": {}
  },
  {
   "cell_type": "markdown",
   "source": [],
   "metadata": {}
  },
  {
   "cell_type": "code",
   "execution_count": 1,
   "source": [
    "import pandas as pd\r\n",
    "import pickle\r\n",
    "import torch\r\n",
    "from PreprocessingHelpers import CustomDataset\r\n",
    "from torch.utils.data import Dataset, DataLoader\r\n",
    "from Models.Models import Model1, Model2, Model3, Model4, Model5, Model6, Model7"
   ],
   "outputs": [],
   "metadata": {}
  },
  {
   "cell_type": "markdown",
   "source": [
    "## Load Test Data"
   ],
   "metadata": {}
  },
  {
   "cell_type": "code",
   "execution_count": 2,
   "source": [
    "with open(\"ProcessedData/test_sequences_padded_dataset_6.pkl\", \"rb\") as file:\r\n",
    "    test_sequences_padded_dataset_6 = pickle.load(file)\r\n",
    "with open(\"ProcessedData/test_sequences_padded_dataset_4.pkl\", \"rb\") as file:\r\n",
    "    test_sequences_padded_dataset_4 = pickle.load(file)\r\n",
    "\r\n",
    "test_loader_6 = DataLoader(test_sequences_padded_dataset_6, batch_size=1, shuffle=True)\r\n",
    "test_loader_4 = DataLoader(test_sequences_padded_dataset_4, batch_size=1, shuffle=True)\r\n",
    "num_trials_6 = test_sequences_padded_dataset_6.vendor.shape[0]\r\n",
    "num_trials_4 = test_sequences_padded_dataset_4.vendor.shape[0]"
   ],
   "outputs": [],
   "metadata": {}
  },
  {
   "cell_type": "code",
   "execution_count": 3,
   "source": [
    "with open(\"ProcessedData/vendors_tensor.pkl\", \"rb\") as file:\r\n",
    "    vendors_tensor = pickle.load(file)"
   ],
   "outputs": [],
   "metadata": {}
  },
  {
   "cell_type": "code",
   "execution_count": 4,
   "source": [
    "with open(\"ProcessedData/popular_vendors.pkl\", \"rb\") as file:\r\n",
    "    popular_vendors = pickle.load(file)"
   ],
   "outputs": [],
   "metadata": {}
  },
  {
   "cell_type": "markdown",
   "source": [
    "## Define Scoring for Model & Baselines"
   ],
   "metadata": {}
  },
  {
   "cell_type": "code",
   "execution_count": 5,
   "source": [
    "popular_vendors.head(10)"
   ],
   "outputs": [
    {
     "output_type": "execute_result",
     "data": {
      "text/plain": [
       "id\n",
       "28    3237\n",
       "25    2717\n",
       "14    2681\n",
       "19    2453\n",
       "18    2184\n",
       "15    2159\n",
       "75    1377\n",
       "21    1274\n",
       "36    1145\n",
       "6     1078\n",
       "Name: num_orders, dtype: int64"
      ]
     },
     "metadata": {},
     "execution_count": 5
    }
   ],
   "metadata": {}
  },
  {
   "cell_type": "code",
   "execution_count": 6,
   "source": [
    "def get_most_popular(vendors, k):\r\n",
    "    return vendors[:k].index.tolist()"
   ],
   "outputs": [],
   "metadata": {}
  },
  {
   "cell_type": "code",
   "execution_count": 7,
   "source": [
    "most_popular_5 = get_most_popular(popular_vendors, 5)\r\n",
    "most_popular_3 = get_most_popular(popular_vendors, 3)\r\n",
    "\r\n",
    "most_popular_5"
   ],
   "outputs": [
    {
     "output_type": "execute_result",
     "data": {
      "text/plain": [
       "[28, 25, 14, 19, 18]"
      ]
     },
     "metadata": {},
     "execution_count": 7
    }
   ],
   "metadata": {}
  },
  {
   "cell_type": "code",
   "execution_count": 8,
   "source": [
    "def baseline1_scoring(target:int, k_most_popular:list):\r\n",
    "    if target in k_most_popular:\r\n",
    "        return 1\r\n",
    "    else:\r\n",
    "        return 0"
   ],
   "outputs": [],
   "metadata": {}
  },
  {
   "cell_type": "code",
   "execution_count": 9,
   "source": [
    "def baseline2_scoring(seq:list, target:int, k_most_popular:list):\r\n",
    "    seq = list(set(seq))    # remove duplicates\r\n",
    "    try:\r\n",
    "        seq.remove(0)       # remove null-token\r\n",
    "    except ValueError:\r\n",
    "        pass\r\n",
    "    m = len(seq)\r\n",
    "    seq = seq + k_most_popular[:-m]\r\n",
    "    if target in seq:\r\n",
    "        return 1\r\n",
    "    else:\r\n",
    "        return 0"
   ],
   "outputs": [],
   "metadata": {}
  },
  {
   "cell_type": "code",
   "execution_count": 10,
   "source": [
    "def model_scoring(seq:torch.tensor, target:int, model, k:int=5):\r\n",
    "    seq = seq.view(1, -1)\r\n",
    "    y = torch.ones([100, 1], dtype=torch.long)      # 100 vendors\r\n",
    "    seq_dupe = y @ seq                              # 100 x 5 matrix\r\n",
    "    v_ids = torch.arange(start=1, end=101, dtype=torch.long)\r\n",
    "    rankings = model.forward(c_seq=seq_dupe, v_id=v_ids).view(-1)    \r\n",
    "    top_k = torch.topk(rankings, k)[1][:5]          # Essentially argmax for top k\r\n",
    "    top_k = top_k + 1                               # Shift indices to match vendors\r\n",
    "    if target in top_k:\r\n",
    "        return 1\r\n",
    "    else:\r\n",
    "        return 0"
   ],
   "outputs": [],
   "metadata": {}
  },
  {
   "cell_type": "markdown",
   "source": [
    "# Give 5 Recommendations"
   ],
   "metadata": {}
  },
  {
   "cell_type": "markdown",
   "source": [
    "## Baselines"
   ],
   "metadata": {}
  },
  {
   "cell_type": "code",
   "execution_count": 27,
   "source": [
    "# Score baselines\r\n",
    "\r\n",
    "print(\"SCORING\\n=======================================================\")\r\n",
    "print(\"Random:\\t\\t2384 / 47677 = 5.00% \")\r\n",
    "baseline1_score = 0\r\n",
    "baseline2_score = 0\r\n",
    "for i, (c_seq, v_id) in enumerate(test_loader_6):\r\n",
    "    target = v_id.item()\r\n",
    "    c_seq_list = c_seq.view(-1).tolist()\r\n",
    "    baseline1_score += baseline1_scoring(target=target, k_most_popular=most_popular_5)\r\n",
    "    baseline2_score += baseline2_scoring(seq=c_seq_list, target=target, k_most_popular=most_popular_5)\r\n",
    "print(f'Baseline1:\\t{baseline1_score} / {num_trials_6} = {baseline1_score*100/num_trials_6:.2f}%')\r\n",
    "print(f'Baseline2:\\t{baseline2_score} / {num_trials_6} = {baseline2_score*100/num_trials_6:.2f}%')\r\n",
    "print(\"\")"
   ],
   "outputs": [
    {
     "output_type": "stream",
     "name": "stdout",
     "text": [
      "SCORING\n",
      "=======================================================\n",
      "Random:\t\t2384 / 47677 = 5.00% \n",
      "Baseline1:\t9233 / 47677 = 19.37%\n",
      "Baseline2:\t22134 / 47677 = 46.42%\n",
      "\n"
     ]
    }
   ],
   "metadata": {}
  },
  {
   "cell_type": "markdown",
   "source": [
    "## Model1"
   ],
   "metadata": {}
  },
  {
   "cell_type": "code",
   "execution_count": 11,
   "source": [
    "# Score model1_64 at different epochs\r\n",
    "\r\n",
    "model = Model1(vendors=vendors_tensor, d_fc=64)\r\n",
    "for epoch in range(0, 201, 40):\r\n",
    "    PATH = \"Models/give_5/adam_no_scheduler/model1_64_epoch\"+str(epoch)+\".pt\"\r\n",
    "    checkpoint = torch.load(PATH)\r\n",
    "    model.load_state_dict(checkpoint['model_state_dict'])\r\n",
    "    model.eval()\r\n",
    "    model_score = 0\r\n",
    "    for i, (c_seq, v_id) in enumerate(test_loader_6):\r\n",
    "        target = v_id.item()\r\n",
    "        c_seq_list = c_seq.tolist()\r\n",
    "        with torch.no_grad():\r\n",
    "            model_score += model_scoring(seq=c_seq, target=target, model=model, k=5)\r\n",
    "    print(f'Model1_64_{epoch}:\\t{model_score} / {num_trials_6} = {model_score*100/num_trials_6:.2f}%')\r\n",
    "    print(\"Done!\")"
   ],
   "outputs": [
    {
     "output_type": "stream",
     "name": "stdout",
     "text": [
      "SCORING\n",
      "=======================================================\n",
      "Random:\t\t2384 / 47677 = 5.00% \n",
      "Baseline1:\t9233 / 47677 = 19.37%\n",
      "Baseline2:\t22134 / 47677 = 46.42%\n",
      "\n",
      "Model1_0:\t15579 / 47677 = 32.68%\n",
      "Model1_40:\t21454 / 47677 = 45.00%\n",
      "Model1_80:\t22135 / 47677 = 46.43%\n",
      "Model1_120:\t22525 / 47677 = 47.25%\n",
      "Model1_160:\t22844 / 47677 = 47.91%\n",
      "Model1_200:\t22797 / 47677 = 47.82%\n",
      "\n"
     ]
    }
   ],
   "metadata": {}
  },
  {
   "cell_type": "code",
   "execution_count": 12,
   "source": [
    "# Score model1_64s at different epochs\r\n",
    "\r\n",
    "model1 = Model1(vendors=vendors_tensor, d_fc=64)\r\n",
    "for epoch in range(0, 201, 20):\r\n",
    "    PATH = \"Models/give_5/adamw_scheduler/model1_64s_epoch\"+str(epoch)+\".pt\"\r\n",
    "    checkpoint = torch.load(PATH)\r\n",
    "    model1.load_state_dict(checkpoint['model_state_dict'])\r\n",
    "    model1.eval()\r\n",
    "    model1_score = 0\r\n",
    "    for i, (c_seq, v_id) in enumerate(test_loader_6):\r\n",
    "        target = v_id.item()\r\n",
    "        c_seq_list = c_seq.tolist()\r\n",
    "        with torch.no_grad():\r\n",
    "            model1_score += model_scoring(seq=c_seq, target=target, model=model1, k=5)\r\n",
    "    print(f'Model1_64s_{epoch}:\\t{model1_score} / {num_trials_6} = {model1_score*100/num_trials_6:.2f}%')\r\n",
    "print(\"Done!\")"
   ],
   "outputs": [
    {
     "output_type": "stream",
     "name": "stdout",
     "text": [
      "Model1_64s_0:\t15644 / 47677 = 32.81%\n",
      "Model1_64s_20:\t21455 / 47677 = 45.00%\n",
      "Model1_64s_40:\t21628 / 47677 = 45.36%\n",
      "Model1_64s_60:\t22108 / 47677 = 46.37%\n",
      "Model1_64s_80:\t22378 / 47677 = 46.94%\n",
      "Model1_64s_100:\t22836 / 47677 = 47.90%\n",
      "Model1_64s_120:\t22922 / 47677 = 48.08%\n",
      "Model1_64s_140:\t22967 / 47677 = 48.17%\n",
      "Model1_64s_160:\t23027 / 47677 = 48.30%\n",
      "Model1_64s_180:\t23044 / 47677 = 48.33%\n",
      "Model1_64s_200:\t23041 / 47677 = 48.33%\n",
      "Done!\n"
     ]
    }
   ],
   "metadata": {}
  },
  {
   "cell_type": "code",
   "execution_count": 24,
   "source": [
    "# Score model1_128 at different epochs\r\n",
    "\r\n",
    "model1 = Model1(vendors=vendors_tensor, d_fc=128)\r\n",
    "for epoch in range(0, 201, 40):\r\n",
    "    PATH = \"Models/give_5/adam_no_scheduler/model1_128_epoch\"+str(epoch)+\".pt\"\r\n",
    "    checkpoint = torch.load(PATH)\r\n",
    "    model1.load_state_dict(checkpoint['model_state_dict'])\r\n",
    "    model1.eval()\r\n",
    "    model1_score = 0\r\n",
    "    for i, (c_seq, v_id) in enumerate(test_loader_6):\r\n",
    "        target = v_id.item()\r\n",
    "        c_seq_list = c_seq.tolist()\r\n",
    "        with torch.no_grad():\r\n",
    "            model1_score += model_scoring(seq=c_seq, target=target, model=model1, k=5)\r\n",
    "    print(f'Model1_128_{epoch}:\\t{model1_score} / {num_trials_6} = {model1_score*100/num_trials_6:.2f}%')"
   ],
   "outputs": [
    {
     "output_type": "stream",
     "name": "stdout",
     "text": [
      "Model1_0:\t15844 / 47677 = 33.23%\n",
      "Model1_40:\t21924 / 47677 = 45.98%\n",
      "Model1_80:\t22116 / 47677 = 46.39%\n",
      "Model1_120:\t22375 / 47677 = 46.93%\n",
      "Model1_160:\t22801 / 47677 = 47.82%\n",
      "Model1_200:\t22547 / 47677 = 47.29%\n"
     ]
    }
   ],
   "metadata": {}
  },
  {
   "cell_type": "markdown",
   "source": [
    "## Model2"
   ],
   "metadata": {}
  },
  {
   "cell_type": "code",
   "execution_count": 16,
   "source": [
    "# Score model2s at different epochs\r\n",
    "\r\n",
    "model = Model2(vendors=vendors_tensor, d_fc=64)\r\n",
    "for epoch in range(0, 101, 10):\r\n",
    "    PATH = \"Models/give_5/adamw_scheduler/model2s_epoch\"+str(epoch)+\".pt\"\r\n",
    "    checkpoint = torch.load(PATH)\r\n",
    "    model.load_state_dict(checkpoint['model_state_dict'])\r\n",
    "    model.eval()\r\n",
    "    model_score = 0\r\n",
    "    for i, (c_seq, v_id) in enumerate(test_loader_6):\r\n",
    "        target = v_id.item()\r\n",
    "        c_seq_list = c_seq.tolist()\r\n",
    "        with torch.no_grad():\r\n",
    "            model_score += model_scoring(seq=c_seq, target=target, model=model, k=5)\r\n",
    "    print(f'Model2_{epoch}:\\t{model_score} / {num_trials_6} = {model_score*100/num_trials_6:.2f}%')\r\n",
    "print(\"Done!\")"
   ],
   "outputs": [
    {
     "output_type": "stream",
     "name": "stdout",
     "text": [
      "Model2_0:\t10297 / 47677 = 21.60%\n",
      "Model2_10:\t14955 / 47677 = 31.37%\n",
      "Model2_20:\t14355 / 47677 = 30.11%\n",
      "Model2_30:\t13962 / 47677 = 29.28%\n",
      "Model2_40:\t13971 / 47677 = 29.30%\n",
      "Model2_50:\t14559 / 47677 = 30.54%\n",
      "Model2_60:\t14728 / 47677 = 30.89%\n",
      "Model2_70:\t14832 / 47677 = 31.11%\n",
      "Model2_80:\t14923 / 47677 = 31.30%\n",
      "Model2_90:\t15288 / 47677 = 32.07%\n",
      "Model2_100:\t15402 / 47677 = 32.30%\n",
      "Done!\n"
     ]
    }
   ],
   "metadata": {}
  },
  {
   "cell_type": "markdown",
   "source": [
    "## Model3"
   ],
   "metadata": {}
  },
  {
   "cell_type": "code",
   "execution_count": 25,
   "source": [
    "# Score model3s at different epochs\r\n",
    "\r\n",
    "model = Model3(vendors=vendors_tensor, d_fc=64)\r\n",
    "for epoch in range(0, 201, 20):\r\n",
    "    PATH = \"Models/give_5/adamw_scheduler/model3s_epoch\"+str(epoch)+\".pt\"\r\n",
    "    checkpoint = torch.load(PATH)\r\n",
    "    model.load_state_dict(checkpoint['model_state_dict'])\r\n",
    "    model.eval()\r\n",
    "    model_score = 0\r\n",
    "    for i, (c_seq, v_id) in enumerate(test_loader_6):\r\n",
    "        target = v_id.item()\r\n",
    "        c_seq_list = c_seq.tolist()\r\n",
    "        with torch.no_grad():\r\n",
    "            model_score += model_scoring(seq=c_seq, target=target, model=model, k=5)\r\n",
    "    print(f'Model3_{epoch}:\\t{model_score} / {num_trials_6} = {model_score*100/num_trials_6:.2f}%')\r\n",
    "print(\"Done!\")"
   ],
   "outputs": [
    {
     "output_type": "stream",
     "name": "stdout",
     "text": [
      "Model3_0:\t17206 / 47677 = 36.09%\n",
      "Model3_20:\t21731 / 47677 = 45.58%\n",
      "Model3_40:\t21939 / 47677 = 46.02%\n",
      "Model3_60:\t22209 / 47677 = 46.58%\n",
      "Model3_80:\t22862 / 47677 = 47.95%\n",
      "Model3_100:\t23002 / 47677 = 48.25%\n",
      "Model3_120:\t22947 / 47677 = 48.13%\n",
      "Model3_140:\t23112 / 47677 = 48.48%\n",
      "Model3_160:\t23155 / 47677 = 48.57%\n",
      "Model3_180:\t23144 / 47677 = 48.54%\n",
      "Model3_200:\t23141 / 47677 = 48.54%\n",
      "Done!\n"
     ]
    }
   ],
   "metadata": {}
  },
  {
   "cell_type": "markdown",
   "source": [
    "## Model4"
   ],
   "metadata": {}
  },
  {
   "cell_type": "code",
   "execution_count": 27,
   "source": [
    "# Score model4 at different epochs\r\n",
    "\r\n",
    "model = Model4(vendors=vendors_tensor, d_fc=64)\r\n",
    "for epoch in range(0, 200, 20):\r\n",
    "    PATH = \"Models/give_5/adamw_scheduler/model4_64s_epoch\"+str(epoch)+\".pt\"\r\n",
    "    checkpoint = torch.load(PATH)\r\n",
    "    model.load_state_dict(checkpoint['model_state_dict'])\r\n",
    "    model.eval()\r\n",
    "    model_score = 0\r\n",
    "    for i, (c_seq, v_id) in enumerate(test_loader_6):\r\n",
    "        target = v_id.item()\r\n",
    "        c_seq_list = c_seq.tolist()\r\n",
    "        with torch.no_grad():\r\n",
    "            model_score += model_scoring(seq=c_seq, target=target, model=model, k=5)\r\n",
    "    print(f'Model4_{epoch}:\\t{model_score} / {num_trials_6} = {model_score*100/num_trials_6:.2f}%')\r\n",
    "print(\"Done!\")"
   ],
   "outputs": [
    {
     "output_type": "stream",
     "name": "stdout",
     "text": [
      "Model4_0:\t15939 / 47677 = 33.43%\n",
      "Model4_20:\t20365 / 47677 = 42.71%\n",
      "Model4_40:\t21525 / 47677 = 45.15%\n",
      "Model4_60:\t21288 / 47677 = 44.65%\n",
      "Model4_80:\t21902 / 47677 = 45.94%\n",
      "Model4_100:\t22149 / 47677 = 46.46%\n",
      "Model4_120:\t22739 / 47677 = 47.69%\n",
      "Model4_140:\t22912 / 47677 = 48.06%\n",
      "Model4_160:\t22943 / 47677 = 48.12%\n",
      "Model4_180:\t23068 / 47677 = 48.38%\n",
      "Done!\n"
     ]
    }
   ],
   "metadata": {}
  },
  {
   "cell_type": "markdown",
   "source": [
    "## Model5"
   ],
   "metadata": {}
  },
  {
   "cell_type": "code",
   "execution_count": 12,
   "source": [
    "# Score model5 at different epochs\r\n",
    "\r\n",
    "model = Model5(vendors=vendors_tensor, d_fc=64)\r\n",
    "for epoch in range(0, 201, 20):\r\n",
    "    PATH = \"Models/give_5/adamw_scheduler/model5_64s_epoch\"+str(epoch)+\".pt\"\r\n",
    "    checkpoint = torch.load(PATH)\r\n",
    "    model.load_state_dict(checkpoint['model_state_dict'])\r\n",
    "    model.eval()\r\n",
    "    model_score = 0\r\n",
    "    for i, (c_seq, v_id) in enumerate(test_loader_6):\r\n",
    "        target = v_id.item()\r\n",
    "        c_seq_list = c_seq.tolist()\r\n",
    "        with torch.no_grad():\r\n",
    "            model_score += model_scoring(seq=c_seq, target=target, model=model, k=5)\r\n",
    "    print(f'Model5_{epoch}:\\t{model_score} / {num_trials_6} = {model_score*100/num_trials_6:.2f}%')\r\n",
    "print(\"Done!\")"
   ],
   "outputs": [
    {
     "output_type": "stream",
     "name": "stdout",
     "text": [
      "Model5_0:\t17857 / 47677 = 37.45%\n",
      "Model5_20:\t23909 / 47677 = 50.15%\n",
      "Model5_40:\t24169 / 47677 = 50.69%\n",
      "Model5_60:\t24585 / 47677 = 51.57%\n",
      "Model5_80:\t24437 / 47677 = 51.26%\n",
      "Model5_100:\t24934 / 47677 = 52.30%\n",
      "Model5_120:\t24973 / 47677 = 52.38%\n",
      "Model5_140:\t24989 / 47677 = 52.41%\n",
      "Model5_160:\t25039 / 47677 = 52.52%\n",
      "Model5_180:\t25000 / 47677 = 52.44%\n",
      "Model5_200:\t25059 / 47677 = 52.56%\n",
      "Done!\n"
     ]
    }
   ],
   "metadata": {}
  },
  {
   "cell_type": "markdown",
   "source": [
    "## Model6"
   ],
   "metadata": {}
  },
  {
   "cell_type": "code",
   "execution_count": 11,
   "source": [
    "# Score model6 at different epochs\r\n",
    "\r\n",
    "model = Model6(vendors=vendors_tensor, d_fc=64)\r\n",
    "for epoch in range(0, 201, 20):\r\n",
    "    PATH = \"Models/give_5/adamw_scheduler/model6_64s_epoch\"+str(epoch)+\".pt\"\r\n",
    "    checkpoint = torch.load(PATH)\r\n",
    "    model.load_state_dict(checkpoint['model_state_dict'])\r\n",
    "    model.eval()\r\n",
    "    model_score = 0\r\n",
    "    for i, (c_seq, v_id) in enumerate(test_loader_6):\r\n",
    "        target = v_id.item()\r\n",
    "        c_seq_list = c_seq.tolist()\r\n",
    "        with torch.no_grad():\r\n",
    "            model_score += model_scoring(seq=c_seq, target=target, model=model, k=5)\r\n",
    "    print(f'Model6_{epoch}:\\t{model_score} / {num_trials_6} = {model_score*100/num_trials_6:.2f}%')\r\n",
    "print(\"Done!\")"
   ],
   "outputs": [
    {
     "output_type": "error",
     "ename": "RuntimeError",
     "evalue": "Error(s) in loading state_dict for Model6:\n\tMissing key(s) in state_dict: \"fc5.weight\", \"fc5.bias\". \n\tsize mismatch for fc4.weight: copying a param with shape torch.Size([1, 16]) from checkpoint, the shape in current model is torch.Size([8, 16]).\n\tsize mismatch for fc4.bias: copying a param with shape torch.Size([1]) from checkpoint, the shape in current model is torch.Size([8]).",
     "traceback": [
      "\u001b[1;31m---------------------------------------------------------------------------\u001b[0m",
      "\u001b[1;31mRuntimeError\u001b[0m                              Traceback (most recent call last)",
      "\u001b[1;32m<ipython-input-11-66e769239b12>\u001b[0m in \u001b[0;36m<module>\u001b[1;34m\u001b[0m\n\u001b[0;32m      5\u001b[0m     \u001b[0mPATH\u001b[0m \u001b[1;33m=\u001b[0m \u001b[1;34m\"Models/give_5/adamw_scheduler/model6_64s_epoch\"\u001b[0m\u001b[1;33m+\u001b[0m\u001b[0mstr\u001b[0m\u001b[1;33m(\u001b[0m\u001b[0mepoch\u001b[0m\u001b[1;33m)\u001b[0m\u001b[1;33m+\u001b[0m\u001b[1;34m\".pt\"\u001b[0m\u001b[1;33m\u001b[0m\u001b[1;33m\u001b[0m\u001b[0m\n\u001b[0;32m      6\u001b[0m     \u001b[0mcheckpoint\u001b[0m \u001b[1;33m=\u001b[0m \u001b[0mtorch\u001b[0m\u001b[1;33m.\u001b[0m\u001b[0mload\u001b[0m\u001b[1;33m(\u001b[0m\u001b[0mPATH\u001b[0m\u001b[1;33m)\u001b[0m\u001b[1;33m\u001b[0m\u001b[1;33m\u001b[0m\u001b[0m\n\u001b[1;32m----> 7\u001b[1;33m     \u001b[0mmodel\u001b[0m\u001b[1;33m.\u001b[0m\u001b[0mload_state_dict\u001b[0m\u001b[1;33m(\u001b[0m\u001b[0mcheckpoint\u001b[0m\u001b[1;33m[\u001b[0m\u001b[1;34m'model_state_dict'\u001b[0m\u001b[1;33m]\u001b[0m\u001b[1;33m)\u001b[0m\u001b[1;33m\u001b[0m\u001b[1;33m\u001b[0m\u001b[0m\n\u001b[0m\u001b[0;32m      8\u001b[0m     \u001b[0mmodel\u001b[0m\u001b[1;33m.\u001b[0m\u001b[0meval\u001b[0m\u001b[1;33m(\u001b[0m\u001b[1;33m)\u001b[0m\u001b[1;33m\u001b[0m\u001b[1;33m\u001b[0m\u001b[0m\n\u001b[0;32m      9\u001b[0m     \u001b[0mmodel_score\u001b[0m \u001b[1;33m=\u001b[0m \u001b[1;36m0\u001b[0m\u001b[1;33m\u001b[0m\u001b[1;33m\u001b[0m\u001b[0m\n",
      "\u001b[1;32m~\\anaconda3\\envs\\deep\\lib\\site-packages\\torch\\nn\\modules\\module.py\u001b[0m in \u001b[0;36mload_state_dict\u001b[1;34m(self, state_dict, strict)\u001b[0m\n\u001b[0;32m   1405\u001b[0m         \u001b[1;32mif\u001b[0m \u001b[0mlen\u001b[0m\u001b[1;33m(\u001b[0m\u001b[0merror_msgs\u001b[0m\u001b[1;33m)\u001b[0m \u001b[1;33m>\u001b[0m \u001b[1;36m0\u001b[0m\u001b[1;33m:\u001b[0m\u001b[1;33m\u001b[0m\u001b[1;33m\u001b[0m\u001b[0m\n\u001b[0;32m   1406\u001b[0m             raise RuntimeError('Error(s) in loading state_dict for {}:\\n\\t{}'.format(\n\u001b[1;32m-> 1407\u001b[1;33m                                self.__class__.__name__, \"\\n\\t\".join(error_msgs)))\n\u001b[0m\u001b[0;32m   1408\u001b[0m         \u001b[1;32mreturn\u001b[0m \u001b[0m_IncompatibleKeys\u001b[0m\u001b[1;33m(\u001b[0m\u001b[0mmissing_keys\u001b[0m\u001b[1;33m,\u001b[0m \u001b[0munexpected_keys\u001b[0m\u001b[1;33m)\u001b[0m\u001b[1;33m\u001b[0m\u001b[1;33m\u001b[0m\u001b[0m\n\u001b[0;32m   1409\u001b[0m \u001b[1;33m\u001b[0m\u001b[0m\n",
      "\u001b[1;31mRuntimeError\u001b[0m: Error(s) in loading state_dict for Model6:\n\tMissing key(s) in state_dict: \"fc5.weight\", \"fc5.bias\". \n\tsize mismatch for fc4.weight: copying a param with shape torch.Size([1, 16]) from checkpoint, the shape in current model is torch.Size([8, 16]).\n\tsize mismatch for fc4.bias: copying a param with shape torch.Size([1]) from checkpoint, the shape in current model is torch.Size([8])."
     ]
    }
   ],
   "metadata": {}
  },
  {
   "cell_type": "markdown",
   "source": [
    "## Model7"
   ],
   "metadata": {}
  },
  {
   "cell_type": "code",
   "execution_count": null,
   "source": [
    "# Score model7 at different epochs\r\n",
    "\r\n",
    "model = Model7(vendors=vendors_tensor, d_fc=64)\r\n",
    "for epoch in range(0, 201, 20):\r\n",
    "    PATH = \"Models/give_5/adamw_scheduler/model7_64s_epoch\"+str(epoch)+\".pt\"\r\n",
    "    checkpoint = torch.load(PATH)\r\n",
    "    model.load_state_dict(checkpoint['model_state_dict'])\r\n",
    "    model.eval()\r\n",
    "    model_score = 0\r\n",
    "    for i, (c_seq, v_id) in enumerate(test_loader_6):\r\n",
    "        target = v_id.item()\r\n",
    "        c_seq_list = c_seq.tolist()\r\n",
    "        with torch.no_grad():\r\n",
    "            model_score += model_scoring(seq=c_seq, target=target, model=model, k=5)\r\n",
    "    print(f'Model7_{epoch}:\\t{model_score} / {num_trials_6} = {model_score*100/num_trials_6:.2f}%')\r\n",
    "print(\"Done!\")"
   ],
   "outputs": [],
   "metadata": {}
  },
  {
   "cell_type": "markdown",
   "source": [
    "# Give 3 Recommendations"
   ],
   "metadata": {}
  },
  {
   "cell_type": "code",
   "execution_count": 14,
   "source": [
    "# Score baselines\r\n",
    "\r\n",
    "print(\"SCORING\\n=======================================================\")\r\n",
    "print(f\"Random:\\t\\t {num_trials_4 * 3 // 100} / {num_trials_4} = 3.00% \")\r\n",
    "baseline1_score = 0\r\n",
    "baseline2_score = 0\r\n",
    "for i, (c_seq, v_id) in enumerate(test_loader_4):\r\n",
    "    target = v_id.item()\r\n",
    "    c_seq_list = c_seq.view(-1).tolist()\r\n",
    "    baseline1_score += baseline1_scoring(target=target, k_most_popular=most_popular_3)\r\n",
    "    baseline2_score += baseline2_scoring(seq=c_seq_list, target=target, k_most_popular=most_popular_3)\r\n",
    "print(f'Baseline1:\\t{baseline1_score} / {num_trials_4} = {baseline1_score*100/num_trials_4:.2f}%')\r\n",
    "print(f'Baseline2:\\t{baseline2_score} / {num_trials_4} = {baseline2_score*100/num_trials_4:.2f}%')\r\n",
    "print(\"\")"
   ],
   "outputs": [
    {
     "output_type": "stream",
     "name": "stdout",
     "text": [
      "SCORING\n",
      "=======================================================\n",
      "Random:\t\t 1430 / 47677 = 3.00% \n",
      "Baseline1:\t6373 / 47677 = 13.37%\n",
      "Baseline2:\t20131 / 47677 = 42.22%\n",
      "\n"
     ]
    }
   ],
   "metadata": {}
  },
  {
   "cell_type": "code",
   "execution_count": 15,
   "source": [
    "# Score model1s at different epochs\r\n",
    "\r\n",
    "model1 = Model1(vendors=vendors_tensor, d_fc=64)\r\n",
    "for epoch in range(0, 201, 20):\r\n",
    "    PATH = \"Models/give_3/model1_64s_3r_epoch\"+str(epoch)+\".pt\"\r\n",
    "    checkpoint = torch.load(PATH)\r\n",
    "    model1.load_state_dict(checkpoint['model_state_dict'])\r\n",
    "    model1.eval()\r\n",
    "    model1_score = 0\r\n",
    "    for i, (c_seq, v_id) in enumerate(test_loader_4):\r\n",
    "        target = v_id.item()\r\n",
    "        c_seq_list = c_seq.tolist()\r\n",
    "        with torch.no_grad():\r\n",
    "            model1_score += model_scoring(seq=c_seq, target=target, model=model1, k=3)\r\n",
    "    print(f'Model1_{epoch}:\\t{model1_score} / {num_trials_4} = {model1_score*100/num_trials_4:.2f}%')\r\n",
    "print(\"Done!\")"
   ],
   "outputs": [
    {
     "output_type": "stream",
     "name": "stdout",
     "text": [
      "Model1_0:\t12129 / 47677 = 25.44%\n",
      "Model1_20:\t16319 / 47677 = 34.23%\n",
      "Model1_40:\t16770 / 47677 = 35.17%\n",
      "Model1_60:\t17771 / 47677 = 37.27%\n",
      "Model1_80:\t17488 / 47677 = 36.68%\n",
      "Model1_100:\t18172 / 47677 = 38.11%\n",
      "Model1_120:\t18705 / 47677 = 39.23%\n",
      "Model1_140:\t18538 / 47677 = 38.88%\n",
      "Model1_160:\t18741 / 47677 = 39.31%\n",
      "Model1_180:\t18876 / 47677 = 39.59%\n",
      "Model1_200:\t18943 / 47677 = 39.73%\n",
      "Done!\n"
     ]
    }
   ],
   "metadata": {}
  },
  {
   "cell_type": "code",
   "execution_count": 17,
   "source": [
    "# Score model2s at different epochs\r\n",
    "\r\n",
    "model2 = Model2(vendors=vendors_tensor, d_fc=64)\r\n",
    "for epoch in range(0, 201, 20):\r\n",
    "    PATH = \"Models/give_3/model2_64s_3r_epoch\"+str(epoch)+\".pt\"\r\n",
    "    checkpoint = torch.load(PATH)\r\n",
    "    model2.load_state_dict(checkpoint['model_state_dict'])\r\n",
    "    model2.eval()\r\n",
    "    model2_score = 0\r\n",
    "    for i, (c_seq, v_id) in enumerate(test_loader_4):\r\n",
    "        target = v_id.item()\r\n",
    "        c_seq_list = c_seq.tolist()\r\n",
    "        with torch.no_grad():\r\n",
    "            model2_score += model_scoring(seq=c_seq, target=target, model=model2, k=3)\r\n",
    "    print(f'Model2_{epoch}:\\t{model2_score} / {num_trials_4} = {model2_score*100/num_trials_4:.2f}%')\r\n",
    "print(\"Done!\")"
   ],
   "outputs": [
    {
     "output_type": "stream",
     "name": "stdout",
     "text": [
      "Model2_0:\t8662 / 47677 = 18.17%\n",
      "Model2_20:\t10778 / 47677 = 22.61%\n",
      "Model2_40:\t10713 / 47677 = 22.47%\n",
      "Model2_60:\t11079 / 47677 = 23.24%\n",
      "Model2_80:\t11153 / 47677 = 23.39%\n",
      "Model2_100:\t11165 / 47677 = 23.42%\n",
      "Model2_120:\t11486 / 47677 = 24.09%\n",
      "Model2_140:\t11900 / 47677 = 24.96%\n",
      "Model2_160:\t11624 / 47677 = 24.38%\n",
      "Model2_180:\t11721 / 47677 = 24.58%\n",
      "Model2_200:\t11639 / 47677 = 24.41%\n",
      "Done!\n"
     ]
    }
   ],
   "metadata": {}
  },
  {
   "cell_type": "code",
   "execution_count": 19,
   "source": [
    "# Score model3s at different epochs\r\n",
    "\r\n",
    "model3 = Model3(vendors=vendors_tensor, d_fc=64)\r\n",
    "for epoch in range(0, 201, 20):\r\n",
    "    PATH = \"Models/give_3/model3s_3r_epoch\"+str(epoch)+\".pt\"\r\n",
    "    checkpoint = torch.load(PATH)\r\n",
    "    model3.load_state_dict(checkpoint['model_state_dict'])\r\n",
    "    model3.eval()\r\n",
    "    model3_score = 0\r\n",
    "    for i, (c_seq, v_id) in enumerate(test_loader_4):\r\n",
    "        target = v_id.item()\r\n",
    "        c_seq_list = c_seq.tolist()\r\n",
    "        with torch.no_grad():\r\n",
    "            model3_score += model_scoring(seq=c_seq, target=target, model=model3, k=3)\r\n",
    "    print(f'Model3_{epoch}:\\t{model3_score} / {num_trials_4} = {model3_score*100/num_trials_4:.2f}%')\r\n",
    "print(\"Done!\")"
   ],
   "outputs": [
    {
     "output_type": "stream",
     "name": "stdout",
     "text": [
      "Model3_0:\t12293 / 47677 = 25.78%\n",
      "Model3_20:\t17339 / 47677 = 36.37%\n",
      "Model3_40:\t17696 / 47677 = 37.12%\n",
      "Model3_60:\t18295 / 47677 = 38.37%\n",
      "Model3_80:\t18954 / 47677 = 39.76%\n",
      "Model3_100:\t19019 / 47677 = 39.89%\n",
      "Model3_120:\t19049 / 47677 = 39.95%\n",
      "Model3_140:\t19261 / 47677 = 40.40%\n",
      "Model3_160:\t19317 / 47677 = 40.52%\n",
      "Model3_180:\t19281 / 47677 = 40.44%\n",
      "Model3_200:\t19320 / 47677 = 40.52%\n",
      "Done!\n"
     ]
    }
   ],
   "metadata": {}
  },
  {
   "cell_type": "markdown",
   "source": [
    "# Check"
   ],
   "metadata": {}
  },
  {
   "cell_type": "code",
   "execution_count": 16,
   "source": [
    "PATH = \"Models/give_5/adamw_scheduler/model5_64s_epoch200.pt\"\r\n",
    "checkpoint = torch.load(PATH)\r\n",
    "test_model = Model5(vendors_tensor)\r\n",
    "test_model.load_state_dict(checkpoint['model_state_dict'])\r\n",
    "test_model.eval()"
   ],
   "outputs": [
    {
     "output_type": "execute_result",
     "data": {
      "text/plain": [
       "Model5(\n",
       "  (id_lookup): Embedding(101, 101)\n",
       "  (emb_id): Linear(in_features=101, out_features=7, bias=True)\n",
       "  (vendor_lookup): Embedding(101, 123)\n",
       "  (emb_ptag): Linear(in_features=43, out_features=6, bias=True)\n",
       "  (emb_vtag): Linear(in_features=68, out_features=7, bias=True)\n",
       "  (c_emb): Linear(in_features=25, out_features=5, bias=True)\n",
       "  (v_emb): Linear(in_features=25, out_features=5, bias=True)\n",
       "  (fc1): Linear(in_features=24, out_features=64, bias=True)\n",
       "  (fc2): Linear(in_features=64, out_features=32, bias=True)\n",
       "  (fc3): Linear(in_features=32, out_features=16, bias=True)\n",
       "  (fc4): Linear(in_features=16, out_features=8, bias=True)\n",
       "  (fc5): Linear(in_features=8, out_features=1, bias=True)\n",
       ")"
      ]
     },
     "metadata": {},
     "execution_count": 16
    }
   ],
   "metadata": {}
  },
  {
   "cell_type": "code",
   "execution_count": 32,
   "source": [
    "num_tests = 25\r\n",
    "test_iter = iter(test_loader_6)\r\n",
    "print('Test\\tInputs\\t\\t\\tTarget\\tPreds (Ordered)\\t\\tModel\\tBase2\\n=================================================================================')\r\n",
    "for i in range(num_tests):\r\n",
    "    seq, v_id = test_iter.next()\r\n",
    "\r\n",
    "    y = torch.ones([100, 1], dtype=torch.long)      # 100 vendors\r\n",
    "    seq_dupe = y @ seq                              # 100 x 5 matrix\r\n",
    "    v_ids = torch.arange(start=1, end=101, dtype=torch.long)\r\n",
    "    rankings = test_model.forward(c_seq=seq_dupe, v_id=v_ids).view(-1)    \r\n",
    "    top_k = torch.topk(rankings, 5)[1][:5]          # Essentially argmax for top k\r\n",
    "    top_k = top_k + 1\r\n",
    "\r\n",
    "    m_preds = top_k.tolist()\r\n",
    "    m_right = \"X\" if v_id in m_preds else \" \"\r\n",
    "    \r\n",
    "    b_pred = baseline2_scoring(seq=seq.view(-1).tolist(), target=v_id, k_most_popular=most_popular_5)\r\n",
    "    b_right = \"X\" if b_pred == 1 else \" \"\r\n",
    "    print(f'{i}:\\t{seq.tolist()}\\t{v_id.item()}\\t{m_preds}\\t{m_right}\\t{b_right}')"
   ],
   "outputs": [
    {
     "output_type": "stream",
     "name": "stdout",
     "text": [
      "Test\tInputs\t\t\tTarget\tPreds (Ordered)\t\tModel\tBase2\n",
      "=================================================================================\n",
      "0:\t[[0, 0, 0, 0, 62]]\t20\t[62, 17, 36, 59, 25]\t \t \n",
      "1:\t[[0, 0, 0, 0, 18]]\t75\t[18, 25, 19, 20, 45]\t \t \n",
      "2:\t[[0, 0, 0, 0, 0]]\t8\t[18, 14, 28, 20, 25]\t \t \n",
      "3:\t[[22, 32, 22, 19, 32]]\t22\t[32, 22, 19, 25, 65]\tX\tX\n",
      "4:\t[[19, 81, 81, 86, 98]]\t98\t[88, 19, 95, 57, 75]\t \tX\n",
      "5:\t[[0, 0, 0, 0, 20]]\t8\t[20, 18, 25, 19, 21]\t \t \n",
      "6:\t[[15, 15, 15, 15, 15]]\t15\t[15, 26, 5, 98, 28]\tX\tX\n",
      "7:\t[[0, 0, 0, 0, 0]]\t6\t[18, 14, 28, 20, 25]\t \t \n",
      "8:\t[[28, 15, 28, 15, 28]]\t15\t[28, 15, 90, 26, 86]\tX\tX\n",
      "9:\t[[0, 15, 73, 15, 26]]\t15\t[15, 28, 78, 86, 98]\tX\tX\n",
      "10:\t[[11, 98, 98, 98, 98]]\t98\t[98, 99, 90, 15, 28]\tX\tX\n",
      "11:\t[[0, 0, 20, 20, 8]]\t21\t[18, 20, 25, 19, 21]\tX\t \n",
      "12:\t[[0, 0, 0, 0, 0]]\t41\t[18, 14, 28, 20, 25]\t \t \n",
      "13:\t[[0, 0, 0, 0, 19]]\t21\t[19, 25, 21, 75, 95]\tX\t \n",
      "14:\t[[0, 0, 0, 0, 28]]\t14\t[28, 14, 26, 15, 5]\tX\tX\n",
      "15:\t[[0, 0, 21, 8, 34]]\t80\t[8, 25, 34, 19, 21]\t \t \n",
      "16:\t[[0, 0, 0, 0, 0]]\t52\t[18, 14, 28, 20, 25]\t \t \n",
      "17:\t[[28, 28, 28, 28, 28]]\t28\t[28, 14, 26, 15, 5]\tX\tX\n",
      "18:\t[[0, 0, 0, 49, 7]]\t34\t[49, 25, 7, 20, 18]\t \t \n",
      "19:\t[[0, 0, 0, 0, 0]]\t83\t[18, 14, 28, 20, 25]\t \t \n",
      "20:\t[[0, 0, 0, 0, 0]]\t38\t[18, 14, 28, 20, 25]\t \t \n",
      "21:\t[[0, 0, 0, 38, 14]]\t38\t[38, 51, 14, 28, 47]\tX\tX\n",
      "22:\t[[86, 73, 73, 73, 73]]\t73\t[73, 90, 89, 68, 13]\tX\tX\n",
      "23:\t[[0, 0, 0, 0, 0]]\t19\t[18, 14, 28, 20, 25]\t \t \n",
      "24:\t[[33, 43, 33, 33, 35]]\t33\t[33, 35, 86, 26, 5]\tX\tX\n"
     ]
    }
   ],
   "metadata": {}
  },
  {
   "cell_type": "code",
   "execution_count": 24,
   "source": [
    "popular_vendors.head(20)"
   ],
   "outputs": [
    {
     "output_type": "execute_result",
     "data": {
      "text/plain": [
       "id\n",
       "28    3237\n",
       "25    2717\n",
       "14    2681\n",
       "19    2453\n",
       "18    2184\n",
       "15    2159\n",
       "75    1377\n",
       "21    1274\n",
       "36    1145\n",
       "6     1078\n",
       "26    1074\n",
       "20    1042\n",
       "46     975\n",
       "95     965\n",
       "3      960\n",
       "1      905\n",
       "22     848\n",
       "30     845\n",
       "45     842\n",
       "24     839\n",
       "Name: num_orders, dtype: int64"
      ]
     },
     "metadata": {},
     "execution_count": 24
    }
   ],
   "metadata": {}
  },
  {
   "cell_type": "code",
   "execution_count": null,
   "source": [],
   "outputs": [],
   "metadata": {}
  }
 ],
 "metadata": {
  "orig_nbformat": 4,
  "language_info": {
   "name": "python",
   "version": "3.7.10",
   "mimetype": "text/x-python",
   "codemirror_mode": {
    "name": "ipython",
    "version": 3
   },
   "pygments_lexer": "ipython3",
   "nbconvert_exporter": "python",
   "file_extension": ".py"
  },
  "kernelspec": {
   "name": "python3",
   "display_name": "Python 3.7.10 64-bit ('deep': conda)"
  },
  "interpreter": {
   "hash": "bace64c8930513bc16c30bbfb6191e80e6b475bb1cc35e455b666e9fcbb27152"
  }
 },
 "nbformat": 4,
 "nbformat_minor": 2
}