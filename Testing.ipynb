{
 "cells": [
  {
   "cell_type": "markdown",
   "source": [
    "# Testing Models"
   ],
   "metadata": {}
  },
  {
   "cell_type": "markdown",
   "source": [
    "Testing recommender systems is less intuitive than testing other predictive models. There are many common metrics to use, which can be found [here in this useful Medium article](https://medium.com/swlh/rank-aware-recsys-evaluation-metrics-5191bba16832). The idea of these methods are all similar: generate a list of top ranked items to show the user, and your score is based on how many of the items you recommend are relevant to the user. The word \"relevant\" is not well-defined, but normally means that the user has interacted with this item in the past. \r\n",
    "\r\n",
    "In our case, our items are the restaurants and the interactions are orders. One issue with our data is that between 30-40% of our users have only ordered from a single restaurant, which makes the above methods tricky/impossible to apply.\r\n",
    "\r\n",
    "Recall that our model takes in a user's past five (5) orders as inputs together with one restaurant R and tries to predict how likely the user will order from R next. We will evaluate our model as follows. Given a user's sequence of five restaurants, and given the target restaurant R which is next in the sequence, we use the model to generate a ranked list of $k=5$ more restaurants that it thinks is the most likely to be ordered from next. If R is among the $k$ generated restaurants, we add $+1$ to the score, otherwise $+0$. \r\n",
    "\r\n",
    "Since there are only $100$ restaurants to recommend from, it should be very feasible to simply score each one, sort the rankings, and slice the top 5 as recommendations. This is a very privillaged position we are in since many recommender systems are deployed in a context where there are millions of items to recommend from. In that case, one could perform clustering based on the customer and vendor embeddings before ranking within the clusters.  \r\n",
    "\r\n",
    "Each user in the test set may possibly geenerate many length $5+1$ sequences, and we shall use all of these during the evaluation process. In the deployed version of the model, we could simply give recommendations based on the last $5$ orders made by the user.\r\n",
    "\r\n",
    "Baselines:\r\n",
    "1) Recommend the $5$ most popular restaurants.\r\n",
    "2) Given a sequence of $5$ orders, $m$ of which are unique and not null, recommend those restaurants together with the $5-m$ most popular restaurants. \r\n",
    "\r\n",
    "We will define 'popularity' of a vendor to be equal to its number of orders in the training data. Note that the unordered set of top five most popular vendors would be the same if we changed the definition of popularity of a vendor to be equal to its number of unique customers (although their rankings are slightly different, see the last cell of \"Munging.ipynb\"). "
   ],
   "metadata": {}
  },
  {
   "cell_type": "markdown",
   "source": [],
   "metadata": {}
  },
  {
   "cell_type": "code",
   "execution_count": 1,
   "source": [
    "import pandas as pd\r\n",
    "import pickle\r\n",
    "import torch\r\n",
    "from PreprocessingHelpers import CustomDataset\r\n",
    "from torch.utils.data import Dataset, DataLoader\r\n",
    "from Models.Models import Model1, Model2, Model3"
   ],
   "outputs": [],
   "metadata": {}
  },
  {
   "cell_type": "markdown",
   "source": [
    "## Load Test Data"
   ],
   "metadata": {}
  },
  {
   "cell_type": "code",
   "execution_count": 2,
   "source": [
    "with open(\"ProcessedData/test_sequences_padded_dataset.pkl\", \"rb\") as file:\r\n",
    "    test_sequences_padded_dataset = pickle.load(file)\r\n",
    "\r\n",
    "test_loader = DataLoader(test_sequences_padded_dataset, batch_size=1)\r\n",
    "num_trials = test_sequences_padded_dataset.vendor.shape[0]"
   ],
   "outputs": [],
   "metadata": {}
  },
  {
   "cell_type": "code",
   "execution_count": 3,
   "source": [
    "with open(\"ProcessedData/vendors_tensor.pkl\", \"rb\") as file:\r\n",
    "    vendors_tensor = pickle.load(file)"
   ],
   "outputs": [],
   "metadata": {}
  },
  {
   "cell_type": "code",
   "execution_count": 4,
   "source": [
    "with open(\"ProcessedData/popular_vendors.pkl\", \"rb\") as file:\r\n",
    "    popular_vendors = pickle.load(file)"
   ],
   "outputs": [],
   "metadata": {}
  },
  {
   "cell_type": "markdown",
   "source": [
    "## Define Scoring for Model & Baselines"
   ],
   "metadata": {}
  },
  {
   "cell_type": "code",
   "execution_count": 5,
   "source": [
    "popular_vendors.head(10)"
   ],
   "outputs": [
    {
     "output_type": "execute_result",
     "data": {
      "text/plain": [
       "id\n",
       "28    3237\n",
       "25    2717\n",
       "14    2681\n",
       "19    2453\n",
       "18    2184\n",
       "15    2159\n",
       "75    1377\n",
       "21    1274\n",
       "36    1145\n",
       "6     1078\n",
       "Name: num_orders, dtype: int64"
      ]
     },
     "metadata": {},
     "execution_count": 5
    }
   ],
   "metadata": {}
  },
  {
   "cell_type": "code",
   "execution_count": 6,
   "source": [
    "k_most_popular = popular_vendors[:5].index.tolist()\r\n",
    "k_most_popular"
   ],
   "outputs": [
    {
     "output_type": "execute_result",
     "data": {
      "text/plain": [
       "[28, 25, 14, 19, 18]"
      ]
     },
     "metadata": {},
     "execution_count": 6
    }
   ],
   "metadata": {}
  },
  {
   "cell_type": "code",
   "execution_count": 7,
   "source": [
    "def baseline1_scoring(target:int, k_most_popular:list):\r\n",
    "    if target in k_most_popular:\r\n",
    "        return 1\r\n",
    "    else:\r\n",
    "        return 0"
   ],
   "outputs": [],
   "metadata": {}
  },
  {
   "cell_type": "code",
   "execution_count": 8,
   "source": [
    "def baseline2_scoring(seq:list, target:int, k_most_popular:list):\r\n",
    "    seq = list(set(seq))    # remove duplicates\r\n",
    "    try:\r\n",
    "        seq.remove(0)       # remove null-token\r\n",
    "    except ValueError:\r\n",
    "        pass\r\n",
    "    m = len(seq)\r\n",
    "    seq = seq + k_most_popular[:-m]\r\n",
    "    if target in seq:\r\n",
    "        return 1\r\n",
    "    else:\r\n",
    "        return 0"
   ],
   "outputs": [],
   "metadata": {}
  },
  {
   "cell_type": "code",
   "execution_count": 9,
   "source": [
    "def model_scoring(seq:torch.tensor, target:int, model, k:int=5):\r\n",
    "    seq = seq.view(1, -1)\r\n",
    "    y = torch.ones([100, 1], dtype=torch.long)      # 100 vendors\r\n",
    "    seq_dupe = y @ seq                              # 100 x 5 matrix\r\n",
    "    v_ids = torch.arange(start=1, end=101, dtype=torch.long)\r\n",
    "    rankings = model.forward(c_seq=seq_dupe, v_id=v_ids).view(-1)    \r\n",
    "    top_k = torch.topk(rankings, k)[1][:5]          # Essentially argmax for top k\r\n",
    "    top_k = top_k + 1                               # Shift indices to match vendors\r\n",
    "    if target in top_k:\r\n",
    "        return 1\r\n",
    "    else:\r\n",
    "        return 0"
   ],
   "outputs": [],
   "metadata": {}
  },
  {
   "cell_type": "code",
   "execution_count": 27,
   "source": [
    "# Score baselines\r\n",
    "print(\"SCORING\\n=======================================================\")\r\n",
    "print(\"Random:\\t\\t2384 / 47677 = 5.00% \")\r\n",
    "baseline1_score = 0\r\n",
    "baseline2_score = 0\r\n",
    "for i, (c_seq, v_id) in enumerate(test_loader):\r\n",
    "    target = v_id.item()\r\n",
    "    c_seq_list = c_seq.view(-1).tolist()\r\n",
    "    baseline1_score += baseline1_scoring(target=target, k_most_popular=k_most_popular)\r\n",
    "    baseline2_score += baseline2_scoring(seq=c_seq_list, target=target, k_most_popular=k_most_popular)\r\n",
    "print(f'Baseline1:\\t{baseline1_score} / {num_trials} = {baseline1_score*100/num_trials:.2f}%')\r\n",
    "print(f'Baseline2:\\t{baseline2_score} / {num_trials} = {baseline2_score*100/num_trials:.2f}%')\r\n",
    "print(\"\")"
   ],
   "outputs": [
    {
     "output_type": "stream",
     "name": "stdout",
     "text": [
      "SCORING\n",
      "=======================================================\n",
      "Random:\t\t2384 / 47677 = 5.00% \n",
      "Baseline1:\t9233 / 47677 = 19.37%\n",
      "Baseline2:\t22134 / 47677 = 46.42%\n",
      "\n"
     ]
    }
   ],
   "metadata": {}
  },
  {
   "cell_type": "code",
   "execution_count": 11,
   "source": [
    "# Score model1_64 at different epochs\r\n",
    "model1 = Model1(vendors=vendors_tensor, d_fc=64)\r\n",
    "for epoch in range(0, 201, 40):\r\n",
    "    PATH = \"Models/model1_64_epoch\"+str(epoch)+\".pt\"\r\n",
    "    checkpoint = torch.load(PATH)\r\n",
    "    model1.load_state_dict(checkpoint['model_state_dict'])\r\n",
    "    model1.eval()\r\n",
    "    model1_score = 0\r\n",
    "    for i, (c_seq, v_id) in enumerate(test_loader):\r\n",
    "        target = v_id.item()\r\n",
    "        c_seq_list = c_seq.tolist()\r\n",
    "        with torch.no_grad():\r\n",
    "            model1_score += model_scoring(seq=c_seq, target=target, model=model1)\r\n",
    "    print(f'Model1_64_{epoch}:\\t{model1_score} / {num_trials} = {model1_score*100/num_trials:.2f}%')\r\n",
    "    print(\"Done!\")"
   ],
   "outputs": [
    {
     "output_type": "stream",
     "name": "stdout",
     "text": [
      "SCORING\n",
      "=======================================================\n",
      "Random:\t\t2384 / 47677 = 5.00% \n",
      "Baseline1:\t9233 / 47677 = 19.37%\n",
      "Baseline2:\t22134 / 47677 = 46.42%\n",
      "\n",
      "Model1_0:\t15579 / 47677 = 32.68%\n",
      "Model1_40:\t21454 / 47677 = 45.00%\n",
      "Model1_80:\t22135 / 47677 = 46.43%\n",
      "Model1_120:\t22525 / 47677 = 47.25%\n",
      "Model1_160:\t22844 / 47677 = 47.91%\n",
      "Model1_200:\t22797 / 47677 = 47.82%\n",
      "\n"
     ]
    }
   ],
   "metadata": {}
  },
  {
   "cell_type": "code",
   "execution_count": 12,
   "source": [
    "# Score model1_64s at different epochs\r\n",
    "model1 = Model1(vendors=vendors_tensor, d_fc=64)\r\n",
    "for epoch in range(0, 201, 20):\r\n",
    "    PATH = \"Models/model1_64s_epoch\"+str(epoch)+\".pt\"\r\n",
    "    checkpoint = torch.load(PATH)\r\n",
    "    model1.load_state_dict(checkpoint['model_state_dict'])\r\n",
    "    model1.eval()\r\n",
    "    model1_score = 0\r\n",
    "    for i, (c_seq, v_id) in enumerate(test_loader):\r\n",
    "        target = v_id.item()\r\n",
    "        c_seq_list = c_seq.tolist()\r\n",
    "        with torch.no_grad():\r\n",
    "            model1_score += model_scoring(seq=c_seq, target=target, model=model1)\r\n",
    "    print(f'Model1_64s_{epoch}:\\t{model1_score} / {num_trials} = {model1_score*100/num_trials:.2f}%')\r\n",
    "print(\"Done!\")"
   ],
   "outputs": [
    {
     "output_type": "stream",
     "name": "stdout",
     "text": [
      "Model1_64s_0:\t15644 / 47677 = 32.81%\n",
      "Model1_64s_20:\t21455 / 47677 = 45.00%\n",
      "Model1_64s_40:\t21628 / 47677 = 45.36%\n",
      "Model1_64s_60:\t22108 / 47677 = 46.37%\n",
      "Model1_64s_80:\t22378 / 47677 = 46.94%\n",
      "Model1_64s_100:\t22836 / 47677 = 47.90%\n",
      "Model1_64s_120:\t22922 / 47677 = 48.08%\n",
      "Model1_64s_140:\t22967 / 47677 = 48.17%\n",
      "Model1_64s_160:\t23027 / 47677 = 48.30%\n",
      "Model1_64s_180:\t23044 / 47677 = 48.33%\n",
      "Model1_64s_200:\t23041 / 47677 = 48.33%\n",
      "Done!\n"
     ]
    }
   ],
   "metadata": {}
  },
  {
   "cell_type": "code",
   "execution_count": 24,
   "source": [
    "# Score model1 at different epochs\r\n",
    "model1 = Model1(vendors=vendors_tensor, d_fc=128)\r\n",
    "for epoch in range(0, 201, 40):\r\n",
    "    PATH = \"Models/model1_128_epoch\"+str(epoch)+\".pt\"\r\n",
    "    checkpoint = torch.load(PATH)\r\n",
    "    model1.load_state_dict(checkpoint['model_state_dict'])\r\n",
    "    model1.eval()\r\n",
    "    model1_score = 0\r\n",
    "    for i, (c_seq, v_id) in enumerate(test_loader):\r\n",
    "        target = v_id.item()\r\n",
    "        c_seq_list = c_seq.tolist()\r\n",
    "        with torch.no_grad():\r\n",
    "            model1_score += model_scoring(seq=c_seq, target=target, model=model1)\r\n",
    "    print(f'Model1_128_{epoch}:\\t{model1_score} / {num_trials} = {model1_score*100/num_trials:.2f}%')"
   ],
   "outputs": [
    {
     "output_type": "stream",
     "name": "stdout",
     "text": [
      "Model1_0:\t15844 / 47677 = 33.23%\n",
      "Model1_40:\t21924 / 47677 = 45.98%\n",
      "Model1_80:\t22116 / 47677 = 46.39%\n",
      "Model1_120:\t22375 / 47677 = 46.93%\n",
      "Model1_160:\t22801 / 47677 = 47.82%\n",
      "Model1_200:\t22547 / 47677 = 47.29%\n"
     ]
    }
   ],
   "metadata": {}
  },
  {
   "cell_type": "code",
   "execution_count": null,
   "source": [
    "# Score model2 at different epochs\r\n",
    "model2 = Model2(vendors=vendors_tensor, d_fc=64)\r\n",
    "for epoch in range(0, 101, 10):\r\n",
    "    PATH = \"Models/model2_epoch\"+str(epoch)+\".pt\"\r\n",
    "    checkpoint = torch.load(PATH)\r\n",
    "    model2.load_state_dict(checkpoint['model_state_dict'])\r\n",
    "    model2.eval()\r\n",
    "    model2_score = 0\r\n",
    "    for i, (c_seq, v_id) in enumerate(test_loader):\r\n",
    "        target = v_id.item()\r\n",
    "        c_seq_list = c_seq.tolist()\r\n",
    "        with torch.no_grad():\r\n",
    "            model2_score += model_scoring(seq=c_seq, target=target, model=model2)\r\n",
    "    print(f'Model2_{epoch}:\\t{model2_score} / {num_trials} = {model2_score*100/num_trials:.2f}%')\r\n",
    "print(\"Done!\")"
   ],
   "outputs": [],
   "metadata": {}
  },
  {
   "cell_type": "code",
   "execution_count": 16,
   "source": [
    "# Score model2s at different epochs\r\n",
    "model2 = Model2(vendors=vendors_tensor, d_fc=64)\r\n",
    "for epoch in range(0, 101, 10):\r\n",
    "    PATH = \"Models/model2s_epoch\"+str(epoch)+\".pt\"\r\n",
    "    checkpoint = torch.load(PATH)\r\n",
    "    model2.load_state_dict(checkpoint['model_state_dict'])\r\n",
    "    model2.eval()\r\n",
    "    model2_score = 0\r\n",
    "    for i, (c_seq, v_id) in enumerate(test_loader):\r\n",
    "        target = v_id.item()\r\n",
    "        c_seq_list = c_seq.tolist()\r\n",
    "        with torch.no_grad():\r\n",
    "            model2_score += model_scoring(seq=c_seq, target=target, model=model2)\r\n",
    "    print(f'Model2_{epoch}:\\t{model2_score} / {num_trials} = {model2_score*100/num_trials:.2f}%')\r\n",
    "print(\"Done!\")"
   ],
   "outputs": [
    {
     "output_type": "stream",
     "name": "stdout",
     "text": [
      "Model2_0:\t10297 / 47677 = 21.60%\n",
      "Model2_10:\t14955 / 47677 = 31.37%\n",
      "Model2_20:\t14355 / 47677 = 30.11%\n",
      "Model2_30:\t13962 / 47677 = 29.28%\n",
      "Model2_40:\t13971 / 47677 = 29.30%\n",
      "Model2_50:\t14559 / 47677 = 30.54%\n",
      "Model2_60:\t14728 / 47677 = 30.89%\n",
      "Model2_70:\t14832 / 47677 = 31.11%\n",
      "Model2_80:\t14923 / 47677 = 31.30%\n",
      "Model2_90:\t15288 / 47677 = 32.07%\n",
      "Model2_100:\t15402 / 47677 = 32.30%\n",
      "Done!\n"
     ]
    }
   ],
   "metadata": {}
  },
  {
   "cell_type": "code",
   "execution_count": 10,
   "source": [
    "# Score model3 at different epochs\r\n",
    "model3 = Model3(vendors=vendors_tensor, d_fc=64)\r\n",
    "for epoch in range(0, 201, 20):\r\n",
    "    PATH = \"Models/model3s_epoch\"+str(epoch)+\".pt\"\r\n",
    "    checkpoint = torch.load(PATH)\r\n",
    "    model3.load_state_dict(checkpoint['model_state_dict'])\r\n",
    "    model3.eval()\r\n",
    "    model3_score = 0\r\n",
    "    for i, (c_seq, v_id) in enumerate(test_loader):\r\n",
    "        target = v_id.item()\r\n",
    "        c_seq_list = c_seq.tolist()\r\n",
    "        with torch.no_grad():\r\n",
    "            model3_score += model_scoring(seq=c_seq, target=target, model=model3)\r\n",
    "    print(f'Model3_{epoch}:\\t{model3_score} / {num_trials} = {model3_score*100/num_trials:.2f}%')\r\n",
    "print(\"Done!\")"
   ],
   "outputs": [
    {
     "output_type": "stream",
     "name": "stdout",
     "text": [
      "Model3_0:\t17206 / 47677 = 36.09%\n",
      "Model3_20:\t21731 / 47677 = 45.58%\n",
      "Model3_40:\t21939 / 47677 = 46.02%\n",
      "Model3_60:\t22209 / 47677 = 46.58%\n",
      "Model3_80:\t22862 / 47677 = 47.95%\n",
      "Model3_100:\t23002 / 47677 = 48.25%\n",
      "Model3_120:\t22947 / 47677 = 48.13%\n",
      "Model3_140:\t23112 / 47677 = 48.48%\n",
      "Model3_160:\t23155 / 47677 = 48.57%\n",
      "Model3_180:\t23144 / 47677 = 48.54%\n",
      "Model3_200:\t23141 / 47677 = 48.54%\n",
      "Done!\n"
     ]
    }
   ],
   "metadata": {}
  },
  {
   "cell_type": "code",
   "execution_count": null,
   "source": [],
   "outputs": [],
   "metadata": {}
  },
  {
   "cell_type": "code",
   "execution_count": null,
   "source": [],
   "outputs": [],
   "metadata": {}
  },
  {
   "cell_type": "code",
   "execution_count": 17,
   "source": [
    "PATH = \"Models/model1_epoch200.pt\"\r\n",
    "checkpoint = torch.load(PATH)\r\n",
    "model1.load_state_dict(checkpoint['model_state_dict'])\r\n",
    "model1.eval()\r\n",
    "\r\n",
    "seq = torch.tensor([[1, 1, 1, 1, 1]])\r\n",
    "\r\n",
    "y = torch.ones([100, 1], dtype=torch.long)      # 100 vendors\r\n",
    "seq_dupe = y @ seq                              # 100 x 5 matrix\r\n",
    "v_ids = torch.arange(start=1, end=101, dtype=torch.long)\r\n",
    "rankings = model1.forward(c_seq=seq_dupe, v_id=v_ids).view(-1)    \r\n",
    "top_k = torch.topk(rankings, 5)[1][:5]          # Essentially argmax for top k\r\n",
    "top_k = top_k + 1\r\n",
    "\r\n",
    "print(rankings.sort(descending=True)[1] + 1)\r\n",
    "print(len(rankings.tolist()))\r\n",
    "print(top_k)"
   ],
   "outputs": [
    {
     "output_type": "stream",
     "name": "stdout",
     "text": [
      "tensor([  1,  36,   3,   6,  30,  23,  53,   2,  24,  41,  71,   4,  17,  73,\n",
      "         39,  16,  67,  68,  62,  44,  28,  70,  12,  63,  43,  64,  82,  13,\n",
      "         42,  27,  86,  46,  59,  15,  26,  92,  14,   9,  54,  19,  78,  25,\n",
      "         89,  11,  60,  85,  76,  55,  40,  88,  74,  90,  75,   7,   5,  72,\n",
      "         31,  48,  29,  61,  87,  91,  20,   8,  52,  79,  99,  22,  21,  51,\n",
      "         50,  35,  95,  98,  33,  10,  32,  18,  65,  37,  56,  96,  49,  94,\n",
      "         45,  81,  93,  77,  34,  66,  80,  69,  57,  83,  97,  38,  84,  58,\n",
      "         47, 100])\n",
      "100\n",
      "tensor([ 1, 36,  3,  6, 30])\n"
     ]
    }
   ],
   "metadata": {}
  },
  {
   "cell_type": "code",
   "execution_count": null,
   "source": [],
   "outputs": [],
   "metadata": {}
  }
 ],
 "metadata": {
  "orig_nbformat": 4,
  "language_info": {
   "name": "python",
   "version": "3.7.10",
   "mimetype": "text/x-python",
   "codemirror_mode": {
    "name": "ipython",
    "version": 3
   },
   "pygments_lexer": "ipython3",
   "nbconvert_exporter": "python",
   "file_extension": ".py"
  },
  "kernelspec": {
   "name": "python3",
   "display_name": "Python 3.7.10 64-bit ('deep': conda)"
  },
  "interpreter": {
   "hash": "bace64c8930513bc16c30bbfb6191e80e6b475bb1cc35e455b666e9fcbb27152"
  }
 },
 "nbformat": 4,
 "nbformat_minor": 2
}