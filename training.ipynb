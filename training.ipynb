{
 "cells": [
  {
   "cell_type": "markdown",
   "source": [
    "# Defining and Training Models"
   ],
   "metadata": {}
  },
  {
   "cell_type": "code",
   "execution_count": null,
   "source": [
    "import torch\r\n",
    "import torch.nn as nn\r\n",
    "import torch.nn.functional as F\r\n",
    "import pickle\r\n",
    "from numpy import log, sqrt, log2, ceil, exp\r\n",
    "import matplotlib.pyplot as plt\r\n",
    "from PreprocessingHelpers import CustomDataset"
   ],
   "outputs": [],
   "metadata": {}
  },
  {
   "cell_type": "markdown",
   "source": [
    "## Load Data"
   ],
   "metadata": {}
  },
  {
   "cell_type": "code",
   "execution_count": null,
   "source": [
    "with open(\"ProcessedData/train_sequences_padded_dataset.pkl\", \"rb\") as file:\r\n",
    "    train_sequences_padded_dataset = pickle.load(file)\r\n",
    "\r\n",
    "with open(\"ProcessedData/vendors_tensor.pkl\", \"rb\") as file:\r\n",
    "    vendors_tensor = pickle.load(file)"
   ],
   "outputs": [],
   "metadata": {}
  },
  {
   "cell_type": "markdown",
   "source": [
    "## Define Model"
   ],
   "metadata": {}
  },
  {
   "cell_type": "markdown",
   "source": [
    "### Model 1\r\n",
    "<p align=\"center\">\r\n",
    "  <img src=\"Imgs/Recommender1.png\" width=\"1000\"/>\r\n",
    "</p>"
   ],
   "metadata": {}
  },
  {
   "cell_type": "code",
   "execution_count": null,
   "source": [
    "# Define column indices to split columns into chunks (hard-coded)\r\n",
    "\r\n",
    "cont_idx_lo = 0\r\n",
    "cont_idx_hi = 8     # Up to avg_sale_log\r\n",
    "misc_idx_hi = 12    # Up to rank\r\n",
    "ptag_idx_hi = 55    # Up to primary_tags_is_42\r\n",
    "vtag_idx_hi = 123   # Up to vendor_tag_is_67"
   ],
   "outputs": [],
   "metadata": {}
  },
  {
   "cell_type": "code",
   "execution_count": null,
   "source": [
    "print(ceil(log2(67)))   # vtag embed size"
   ],
   "outputs": [],
   "metadata": {}
  },
  {
   "cell_type": "code",
   "execution_count": null,
   "source": [
    "print(ceil(log2(42)))   # ptag embed size"
   ],
   "outputs": [],
   "metadata": {}
  },
  {
   "cell_type": "code",
   "execution_count": null,
   "source": [
    "print(2 * ceil(log2(12+6+7)))   # final embed size"
   ],
   "outputs": [],
   "metadata": {}
  },
  {
   "cell_type": "code",
   "execution_count": null,
   "source": [
    "from Models.Models import Model1\r\n",
    "\r\n",
    "model1 = Model1(vendors=vendors_tensor, cont_idx_hi=cont_idx_hi, misc_idx_hi=misc_idx_hi, ptag_idx_hi=ptag_idx_hi, vtag_idx_hi=vtag_idx_hi, d_fc=64)"
   ],
   "outputs": [],
   "metadata": {}
  },
  {
   "cell_type": "markdown",
   "source": [
    "### Loss Function"
   ],
   "metadata": {}
  },
  {
   "cell_type": "markdown",
   "source": [
    "To train our model, we will use a type of ranking loss function. A ranking loss takes as input the scores of a positive sample and a negative sample. The output is\r\n",
    "$$\\textrm{loss}(x_+, x_-) = \\textrm{max}(0, x_- - x_+)$$\r\n",
    "The loss is $0$ when the positive sample is ranked higher than or equal to the negative sample, and is greater than $0$ otherwise. "
   ],
   "metadata": {}
  },
  {
   "cell_type": "code",
   "execution_count": null,
   "source": [
    "mr_loss = nn.MarginRankingLoss()"
   ],
   "outputs": [],
   "metadata": {}
  },
  {
   "cell_type": "markdown",
   "source": [
    "### Optimizer"
   ],
   "metadata": {}
  },
  {
   "cell_type": "code",
   "execution_count": null,
   "source": [
    "adam = torch.optim.Adam(model1.parameters())"
   ],
   "outputs": [],
   "metadata": {}
  },
  {
   "cell_type": "markdown",
   "source": [
    "## Training"
   ],
   "metadata": {}
  },
  {
   "cell_type": "code",
   "execution_count": null,
   "source": [
    "# Define DataLoaders\r\n",
    "\r\n",
    "batch_size = 512\r\n",
    "num_workers = 0\r\n",
    "train_loader = torch.utils.data.DataLoader(dataset=train_sequences_padded_dataset, batch_size=batch_size, shuffle=True, num_workers=num_workers)"
   ],
   "outputs": [],
   "metadata": {}
  },
  {
   "cell_type": "code",
   "execution_count": null,
   "source": [
    "# Define the training process for Model 1\r\n",
    "\r\n",
    "epochs = 100\r\n",
    "print_every = 10\r\n",
    "save_every = 10\r\n",
    "\r\n",
    "train_losses = []\r\n",
    "for epoch in range(epochs):\r\n",
    "    running_loss = 0.0\r\n",
    "    for i, (c_seq, v_id) in enumerate(train_loader):\r\n",
    "\r\n",
    "        # Generate negative samples\r\n",
    "        neg_v_id = torch.randint(low=1, high=100, size=v_id.size())\r\n",
    "\r\n",
    "        # Get scores\r\n",
    "        pos_pred = model1.forward(c_seq, v_id)\r\n",
    "        neg_pred = model1.forward(c_seq, neg_v_id)\r\n",
    "\r\n",
    "        # Compute loss\r\n",
    "        mr_loss_target = torch.ones(pos_pred.size())\r\n",
    "        batch_loss = mr_loss(pos_pred, neg_pred, mr_loss_target)\r\n",
    "        running_loss += batch_loss.item()\r\n",
    "        train_losses.append(batch_loss.item())\r\n",
    "\r\n",
    "        # Update parameters\r\n",
    "        batch_loss.backward()\r\n",
    "        adam.step()\r\n",
    "\r\n",
    "        # Reset gradients\r\n",
    "        adam.zero_grad()\r\n",
    "    \r\n",
    "    # Save states and print losses\r\n",
    "    if epoch % print_every == 0:\r\n",
    "            print(f'Epoch [{epoch}/{epochs}]:\\tsum(batch_losses) = {running_loss}')\r\n",
    "    if epoch % save_every == 0:\r\n",
    "        PATH = f\"Models/model1_epoch{epoch}.pkl\"\r\n",
    "        torch.save({\r\n",
    "            'epoch': epoch,\r\n",
    "            'model_state_dict': model1.state_dict(),\r\n",
    "            'optimizer_state_dict': adam.state_dict(),\r\n",
    "            'loss': mr_loss,\r\n",
    "            }, PATH)\r\n",
    "\r\n",
    "# Save final states and print final losses\r\n",
    "print(f'Epoch [{epochs}/{epochs}]:\\tsum(batch_losses) = {running_loss}')\r\n",
    "PATH = f\"Models/model1_epoch{epochs}.pkl\"\r\n",
    "torch.save({\r\n",
    "    'epoch': epochs,\r\n",
    "    'model_state_dict': model1.state_dict(),\r\n",
    "    'optimizer_state_dict': adam.state_dict(),\r\n",
    "    'loss': mr_loss,\r\n",
    "    }, PATH)\r\n",
    "print('Done!')"
   ],
   "outputs": [],
   "metadata": {}
  },
  {
   "cell_type": "code",
   "execution_count": null,
   "source": [
    "print(f'num batches: {len(train_losses)}')\r\n",
    "print(f'batches per epoch: {len(train_losses) // epochs}')"
   ],
   "outputs": [],
   "metadata": {}
  },
  {
   "cell_type": "code",
   "execution_count": null,
   "source": [
    "plt.plot(range(len(train_losses[1000:15000])), train_losses[1000:15000])\r\n",
    "plt.xlabel('Batch #')\r\n",
    "plt.ylabel('Batch Loss')\r\n",
    "plt.show()"
   ],
   "outputs": [],
   "metadata": {}
  }
 ],
 "metadata": {
  "orig_nbformat": 4,
  "language_info": {
   "name": "python",
   "version": "3.7.10",
   "mimetype": "text/x-python",
   "codemirror_mode": {
    "name": "ipython",
    "version": 3
   },
   "pygments_lexer": "ipython3",
   "nbconvert_exporter": "python",
   "file_extension": ".py"
  },
  "kernelspec": {
   "name": "python3",
   "display_name": "Python 3.7.10 64-bit ('deep': conda)"
  },
  "interpreter": {
   "hash": "bace64c8930513bc16c30bbfb6191e80e6b475bb1cc35e455b666e9fcbb27152"
  }
 },
 "nbformat": 4,
 "nbformat_minor": 2
}